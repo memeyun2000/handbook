{
 "cells": [
  {
   "cell_type": "code",
   "execution_count": 18,
   "metadata": {},
   "outputs": [
    {
     "name": "stdout",
     "output_type": "stream",
     "text": [
      "\n",
      "--example:1--\n",
      "Hello, world.\n",
      "'Hello, world.'\n",
      "\n",
      "--example:2--\n",
      "0.14285714285714285\n",
      "0.14285714285714285\n",
      "\n",
      "--example:3--\n",
      "The value of x is 32.5, and y is 40000...\n",
      "The value of x is 32.5, and y is 40000...\n",
      "\n",
      "--example:4--\n",
      "xixihello world\n",
      "xixi\n",
      "xixi'hello world\\n'xixi\n",
      "\n",
      "--example:5--\n",
      "(32.5, 40000, ('spam', 'eggs'))\n",
      "(32.5, 40000, ('spam', 'eggs'))\n"
     ]
    }
   ],
   "source": [
    "#Fancier Output Formating\n",
    "#repr and str\n",
    "\n",
    "print('\\n--example:1--')\n",
    "s = 'Hello, world.'\n",
    "print(str(s))\n",
    "print(repr(s))\n",
    "\n",
    "print('\\n--example:2--')\n",
    "print(str(1/7))\n",
    "print(repr(1/7))\n",
    "\n",
    "print('\\n--example:3--')\n",
    "x = 10 * 3.25\n",
    "y = 200 * 200\n",
    "s = 'The value of x is ' + repr(x) + ', and y is ' + repr(y) + '...'\n",
    "print(s)\n",
    "s = 'The value of x is ' + str(x) + ', and y is ' + str(y) + '...'\n",
    "print(s)\n",
    "\n",
    "print('\\n--example:4--')\n",
    "print(\"xixi\" + str('hello world\\n') + \"xixi\")\n",
    "print(\"xixi\" + repr('hello world\\n') + \"xixi\")\n",
    "\n",
    "print('\\n--example:5--')\n",
    "print( repr((x,y,('spam','eggs'))) )\n",
    "print( str((x,y,('spam','eggs'))) )"
   ]
  },
  {
   "cell_type": "code",
   "execution_count": 26,
   "metadata": {},
   "outputs": [
    {
     "name": "stdout",
     "output_type": "stream",
     "text": [
      "\n",
      "--example:1--\n",
      " 1   1    1\n",
      " 2   4    8\n",
      " 3   9   27\n",
      " 4  16   64\n",
      " 5  25  125\n",
      " 6  36  216\n",
      " 7  49  343\n",
      " 8  64  512\n",
      " 9  81  729\n",
      "10 100 1000\n",
      "\n",
      "--example:2--\n",
      " 1   1    1\n",
      " 2   4    8\n",
      " 3   9   27\n",
      " 4  16   64\n",
      " 5  25  125\n",
      " 6  36  216\n",
      " 7  49  343\n",
      " 8  64  512\n",
      " 9  81  729\n",
      "10 100 1000\n"
     ]
    }
   ],
   "source": [
    "#two way for squares and cubes\n",
    "print('\\n--example:1--')\n",
    "for x in range(1,11):\n",
    "    print(repr(x).rjust(2),repr(x*x).rjust(3),end=\" \")\n",
    "    print(repr(x*x*x).rjust(4))\n",
    "    \n",
    "print('\\n--example:2--')\n",
    "#the another way to write squares and cubes \n",
    "for x in range(1,11):\n",
    "    print('{0:2d} {1:3d} {2:4d}'.format(x,x*x,x*x*x))"
   ]
  },
  {
   "cell_type": "code",
   "execution_count": 30,
   "metadata": {},
   "outputs": [
    {
     "name": "stdout",
     "output_type": "stream",
     "text": [
      "0000000012\n",
      "0003.14\n",
      "3.14159265434\n",
      "314.159265434\n"
     ]
    }
   ],
   "source": [
    "#zfill\n",
    "\n",
    "print( '12'.zfill(10))\n",
    "print('3.14'.zfill(7))\n",
    "print('3.14159265434'.zfill(5))\n",
    "print('314.159265434'.zfill(5))"
   ]
  },
  {
   "cell_type": "code",
   "execution_count": 38,
   "metadata": {},
   "outputs": [
    {
     "name": "stdout",
     "output_type": "stream",
     "text": [
      "We are the knights who say \"Ni!\"\n",
      "spam and eggs\n",
      "eggs and spam\n",
      "This spam is absolutely horrible.\n",
      "The story of Bill, Manfred, and Georg.\n",
      "My hovercraft is full of eels.\n",
      "My hovercraft is full of 'eels'.\n",
      "The value of PI is approximately 3.142.\n",
      "guoqy:18612360462;lilu:18612409848\n"
     ]
    }
   ],
   "source": [
    "#str.format()\n",
    "\n",
    "print('We are the {} who say \"{}!\"'.format('knights', 'Ni'))\n",
    "\n",
    "print('{0} and {1}'.format('spam', 'eggs'))\n",
    "\n",
    "print('{1} and {0}'.format('spam', 'eggs'))\n",
    "\n",
    "print('This {food} is {adjective}.'.format(\n",
    "      food='spam', adjective='absolutely horrible'))\n",
    "\n",
    "print('The story of {0}, {1}, and {other}.'.format('Bill', 'Manfred',other='Georg'))\n",
    "\n",
    "\n",
    "#'!a' (apply ascii()), '!s' (apply str()) and '!r' (apply repr()) \n",
    "contents = 'eels'\n",
    "print('My hovercraft is full of {}.'.format(contents))\n",
    "print('My hovercraft is full of {!r}.'.format(contents))\n",
    "\n",
    "\n",
    "# str.format() optional ':'\n",
    "import math\n",
    "print('The value of PI is approximately {0:.3f}.'.format(math.pi))\n",
    "\n",
    "\n",
    "\n",
    "#for dictionary\n",
    "table = {'guoqy':18612360462 , 'lilu':18612409848}\n",
    "print('guoqy:{0[guoqy]:d};lilu:{0[lilu]:d}'.format(table))"
   ]
  },
  {
   "cell_type": "code",
   "execution_count": 41,
   "metadata": {},
   "outputs": [
    {
     "name": "stdout",
     "output_type": "stream",
     "text": [
      "def fib():\n",
      "    print(\"fib function called!!\")\n",
      "    \n",
      "def fib2():\n",
      "    print(\"fib2 function called!!\")\n"
     ]
    }
   ],
   "source": [
    "# Read and Write Files\n",
    "with open('fibo.py') as f:\n",
    "    read_data = f.read()\n",
    "    print(read_data)\n",
    "f.close()"
   ]
  },
  {
   "cell_type": "code",
   "execution_count": 45,
   "metadata": {},
   "outputs": [
    {
     "name": "stdout",
     "output_type": "stream",
     "text": [
      "def fib():\n",
      "    print(\"fib function called!!\")\n",
      "    \n",
      "def fib2():\n",
      "    print(\"fib2 function called!!\")\n"
     ]
    }
   ],
   "source": [
    "# Method of  File Objects\n",
    "_file = open('fibo.py')\n",
    "print(_file.read())\n",
    "_file.close()\n"
   ]
  },
  {
   "cell_type": "code",
   "execution_count": 51,
   "metadata": {},
   "outputs": [
    {
     "name": "stdout",
     "output_type": "stream",
     "text": [
      "def fib():\n",
      "     print(\"fib function called!!\")\n",
      "     \n",
      " def fib2():\n",
      "     print(\"fib2 function called!!\") "
     ]
    }
   ],
   "source": [
    "# Method of File Objects \n",
    "_file = open('fibo.py')\n",
    "for line in _file:\n",
    "    print(line,end=\" \")\n",
    "_file.close()"
   ]
  },
  {
   "cell_type": "code",
   "execution_count": 60,
   "metadata": {},
   "outputs": [
    {
     "name": "stdout",
     "output_type": "stream",
     "text": [
      "False\n",
      "True\n"
     ]
    }
   ],
   "source": [
    "# Mehotd of File Objects\n",
    "# write text to file\n",
    "f = open('resources/temp.txt','w')\n",
    "f.write(\"This is a test\\n\")\n",
    "print(f.closed)\n",
    "f.close()\n",
    "print(f.closed)"
   ]
  },
  {
   "cell_type": "code",
   "execution_count": 59,
   "metadata": {},
   "outputs": [
    {
     "name": "stdout",
     "output_type": "stream",
     "text": [
      "True\n"
     ]
    }
   ],
   "source": [
    "# Mehotd of File Objects\n",
    "# write text to file with 'with' statment\n",
    "with open('resources/temp.txt','w') as f:\n",
    "    f.write(\"this is a test\\n\")\n",
    "print(f.closed)\n",
    "# It not use close() function\n",
    "# 使用with语句 可以 不使用close关闭，语句结束文件即关闭"
   ]
  },
  {
   "cell_type": "code",
   "execution_count": 69,
   "metadata": {},
   "outputs": [
    {
     "name": "stdout",
     "output_type": "stream",
     "text": [
      "16\n",
      "16\n",
      "5\n",
      "b'5'\n",
      "6\n",
      "13\n",
      "13\n",
      "b'd'\n"
     ]
    }
   ],
   "source": [
    "# Method of File Objects\n",
    "# file.seek() 移动文件的光标位置\n",
    "# file.tell() 返回一个文件光标位置\n",
    "f = open('resources/temp.txt','rb+')\n",
    "print( f.write(b'0123456789abcdef') )\n",
    "print( f.tell() )\n",
    "print( f.seek(5) )\n",
    "print( f.read(1) )\n",
    "print( f.tell() )\n",
    "print( f.seek(-3,2))\n",
    "print( f.tell() )\n",
    "print( f.read(1) )\n",
    "f.close()\n"
   ]
  },
  {
   "cell_type": "code",
   "execution_count": 73,
   "metadata": {},
   "outputs": [
    {
     "name": "stdout",
     "output_type": "stream",
     "text": [
      "[1, \"simple\", \"list\"]\n",
      "[1, \"simple\", \"list\"]\n"
     ]
    }
   ],
   "source": [
    "# Saving structured data with json\n",
    "# json.dump() 将json写入文件\n",
    "# json.load() 从文件读取json\n",
    "import json\n",
    "jsonObj = json.dumps([1,'simple','list'])\n",
    "print( jsonObj )\n",
    "\n",
    "with open('resources/json','w') as f:\n",
    "    json.dump(jsonObj,f)\n",
    "    \n",
    "with open('resources/json') as f:\n",
    "    anotherJsonObj = json.load(f)\n",
    "    print(anotherJsonObj)"
   ]
  }
 ],
 "metadata": {
  "kernelspec": {
   "display_name": "Python 3",
   "language": "python",
   "name": "python3"
  },
  "language_info": {
   "codemirror_mode": {
    "name": "ipython",
    "version": 3
   },
   "file_extension": ".py",
   "mimetype": "text/x-python",
   "name": "python",
   "nbconvert_exporter": "python",
   "pygments_lexer": "ipython3",
   "version": "3.6.3"
  }
 },
 "nbformat": 4,
 "nbformat_minor": 2
}
