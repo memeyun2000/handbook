{
 "cells": [
  {
   "cell_type": "code",
   "execution_count": 18,
   "metadata": {},
   "outputs": [
    {
     "name": "stdout",
     "output_type": "stream",
     "text": [
      "1 1 0\n",
      "[1.1, 4.2, 1.8, 1.2, 3.3]\n",
      "4\n",
      "-- remove element --\n",
      "[1.1, 4.2, 1.8, 1.2]\n",
      "-- reverse list --\n",
      "[1.2, 1.8, 4.2, 1.1]\n",
      "[1.1, 1.2, 1.8, 4.2]\n",
      "4.2\n",
      "[1.1, 1.2, 1.8]\n"
     ]
    }
   ],
   "source": [
    "# list example \n",
    "\n",
    "a = [1.1 ,4.2, 1.2 , 3.3]\n",
    "print a.count(1.1),a.count(1.2) , a.count('x')\n",
    "a.insert(2,1.8)\n",
    "print a\n",
    "\n",
    "print a.index(3.3)\n",
    "\n",
    "print \"-- remove element --\"\n",
    "a.remove(3.3)\n",
    "print a\n",
    "\n",
    "print \"-- reverse list --\"\n",
    "a.reverse()\n",
    "print a\n",
    "\n",
    "a.sort()\n",
    "print a\n",
    "\n",
    "print a.pop()\n",
    "print a\n",
    "\n"
   ]
  },
  {
   "cell_type": "code",
   "execution_count": 26,
   "metadata": {},
   "outputs": [
    {
     "name": "stdout",
     "output_type": "stream",
     "text": [
      "stack list:[3, 4, 5, 6, 7]\n",
      "pop element:7\n",
      "stack list:[3, 4, 5, 6]\n",
      "pop element:6\n",
      "stack list:[3, 4, 5]\n"
     ]
    }
   ],
   "source": [
    "# Use list as stack\n",
    "\n",
    "stack = [3,4,5]\n",
    "\n",
    "# append element \n",
    "stack.append(6)\n",
    "stack.append(7)\n",
    "print \"stack list:{}\".format(stack)\n",
    "\n",
    "# pop element\n",
    "print \"pop element:{}\".format(stack.pop())\n",
    "print \"stack list:{}\".format(stack)\n",
    "print \"pop element:{}\".format(stack.pop())\n",
    "print \"stack list:{}\".format(stack)"
   ]
  },
  {
   "cell_type": "code",
   "execution_count": 29,
   "metadata": {},
   "outputs": [
    {
     "name": "stdout",
     "output_type": "stream",
     "text": [
      "queue:deque(['guoqy', 'lululi', 'xiaoguoguo', 'xiaolulu', 'sec'])\n",
      "left element:guoqy\n",
      "queue:deque(['lululi', 'xiaoguoguo', 'xiaolulu', 'sec'])\n"
     ]
    }
   ],
   "source": [
    "# Use list as queues\n",
    "from collections import deque\n",
    "queue = deque([\"guoqy\",\"lululi\",\"xiaoguoguo\"])\n",
    "queue.append(\"xiaolulu\")\n",
    "queue.append(\"sec\")\n",
    "\n",
    "# queue elements\n",
    "print \"queue:{}\".format(queue)\n",
    "\n",
    "# deque has popleft function\n",
    "# popleft element\n",
    "print \"left element:{}\".format(queue.popleft());\n",
    "\n",
    "\n",
    "# queue elements\n",
    "print \"queue:{}\".format(queue)"
   ]
  },
  {
   "cell_type": "code",
   "execution_count": null,
   "metadata": {},
   "outputs": [],
   "source": []
  }
 ],
 "metadata": {
  "kernelspec": {
   "display_name": "Python 2",
   "language": "python",
   "name": "python2"
  },
  "language_info": {
   "codemirror_mode": {
    "name": "ipython",
    "version": 2
   },
   "file_extension": ".py",
   "mimetype": "text/x-python",
   "name": "python",
   "nbconvert_exporter": "python",
   "pygments_lexer": "ipython2",
   "version": "2.7.6"
  }
 },
 "nbformat": 4,
 "nbformat_minor": 2
}
