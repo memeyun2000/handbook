{
 "cells": [
  {
   "cell_type": "code",
   "execution_count": 6,
   "metadata": {},
   "outputs": [
    {
     "name": "stdout",
     "output_type": "stream",
     "text": [
      "fib function called!!\n",
      "fib2 function called!!\n",
      "fibo\n"
     ]
    }
   ],
   "source": [
    "# Use modules fibo (from fibo.py)\n",
    "import fibo\n",
    "fibo.fib()\n",
    "fibo.fib2()\n",
    "\n",
    "print(fibo.__name__)"
   ]
  },
  {
   "cell_type": "code",
   "execution_count": 9,
   "metadata": {},
   "outputs": [
    {
     "name": "stdout",
     "output_type": "stream",
     "text": [
      "fib function called!!\n",
      "fib2 function called!!\n"
     ]
    }
   ],
   "source": [
    "#More on module\n",
    "from fibo import fib,fib2\n",
    "fib()\n",
    "fib2()"
   ]
  },
  {
   "cell_type": "code",
   "execution_count": 11,
   "metadata": {},
   "outputs": [
    {
     "name": "stdout",
     "output_type": "stream",
     "text": [
      "fib function called!!\n",
      "fib2 function called!!\n"
     ]
    }
   ],
   "source": [
    "#More on module\n",
    "from fibo import *\n",
    "fib()\n",
    "fib2()"
   ]
  },
  {
   "cell_type": "code",
   "execution_count": 13,
   "metadata": {},
   "outputs": [],
   "source": [
    "#Executing modules as script\n",
    "#python fibo.py <arguments>"
   ]
  },
  {
   "cell_type": "code",
   "execution_count": null,
   "metadata": {},
   "outputs": [],
   "source": [
    "#No more \n",
    "\n",
    "#See https://docs.python.org/3/tutorial/modules.html"
   ]
  }
 ],
 "metadata": {
  "kernelspec": {
   "display_name": "Python 3",
   "language": "python",
   "name": "python3"
  },
  "language_info": {
   "codemirror_mode": {
    "name": "ipython",
    "version": 3
   },
   "file_extension": ".py",
   "mimetype": "text/x-python",
   "name": "python",
   "nbconvert_exporter": "python",
   "pygments_lexer": "ipython3",
   "version": "3.5.2"
  }
 },
 "nbformat": 4,
 "nbformat_minor": 2
}
