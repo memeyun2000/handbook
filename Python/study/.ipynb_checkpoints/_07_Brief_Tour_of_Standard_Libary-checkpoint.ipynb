{
 "cells": [
  {
   "cell_type": "code",
   "execution_count": 7,
   "metadata": {},
   "outputs": [
    {
     "name": "stdout",
     "output_type": "stream",
     "text": [
      "/tmp\n"
     ]
    },
    {
     "data": {
      "text/plain": [
       "0"
      ]
     },
     "execution_count": 7,
     "metadata": {},
     "output_type": "execute_result"
    }
   ],
   "source": [
    "# use system cmd\n",
    "import os\n",
    "print(os.getcwd())\n",
    "\n",
    "os.chdir(\"/tmp\")\n",
    "os.system(\"mkdir temp_by_python\")\n",
    "os.system(\"touch temp.txt\")"
   ]
  },
  {
   "cell_type": "code",
   "execution_count": null,
   "metadata": {},
   "outputs": [],
   "source": [
    "# use system cmd\n",
    "import os \n",
    "print( dir(os) )\n",
    "print( help(os) )"
   ]
  },
  {
   "cell_type": "code",
   "execution_count": 9,
   "metadata": {},
   "outputs": [
    {
     "data": {
      "text/plain": [
       "'/tmp/temp_by_python/tempCopy.txt'"
      ]
     },
     "execution_count": 9,
     "metadata": {},
     "output_type": "execute_result"
    }
   ],
   "source": [
    "import shutil\n",
    "shutil.copyfile(\"/tmp/temp.txt\",\"/tmp/tempCopy.txt\")\n",
    "shutil.move(\"/tmp/tempCopy.txt\",\"/tmp/temp_by_python/tempCopy.txt\")"
   ]
  },
  {
   "cell_type": "code",
   "execution_count": 11,
   "metadata": {},
   "outputs": [
    {
     "data": {
      "text/plain": [
       "['temp.txt',\n",
       " 'temp_by_python',\n",
       " 'systemd-private-5a49307b633e4f83bce1a2001b6a99eb-colord.service-zD79xm',\n",
       " 'dumps',\n",
       " 'thunderbird_sec',\n",
       " 'firefox_sec',\n",
       " 'sqlite-3.6.20.1-libsqlitejdbc.so',\n",
       " 'systemd-private-5a49307b633e4f83bce1a2001b6a99eb-fwupd.service-aDktd8',\n",
       " 'systemd-private-5a49307b633e4f83bce1a2001b6a99eb-systemd-resolved.service-CzfEpg',\n",
       " 'ibus.log',\n",
       " 'mozilla_sec0',\n",
       " 'systemd-private-5a49307b633e4f83bce1a2001b6a99eb-systemd-timesyncd.service-uRjURp',\n",
       " 'systemd-private-5a49307b633e4f83bce1a2001b6a99eb-rtkit-daemon.service-DScbM7',\n",
       " 'hsperfdata_sec']"
      ]
     },
     "execution_count": 11,
     "metadata": {},
     "output_type": "execute_result"
    }
   ],
   "source": [
    "# 显示当前文件夹内的文件\n",
    "import glob\n",
    "glob.glob(\"*\")"
   ]
  },
  {
   "cell_type": "code",
   "execution_count": 13,
   "metadata": {},
   "outputs": [
    {
     "name": "stdout",
     "output_type": "stream",
     "text": [
      "['/usr/local/lib/python3.6/dist-packages/ipykernel_launcher.py', '-f', '/run/user/1000/jupyter/kernel-7b534ade-0519-4819-baed-9365a196b744.json']\n"
     ]
    }
   ],
   "source": [
    "#Command Line Arguments\n",
    "import sys\n",
    "print(sys.argv)"
   ]
  },
  {
   "cell_type": "code",
   "execution_count": null,
   "metadata": {},
   "outputs": [],
   "source": [
    "# Error Output Redirection and Program Terminatio\n",
    "sys.stderr.write('Warning, log file not found starting a new one\\n')"
   ]
  },
  {
   "cell_type": "code",
   "execution_count": 14,
   "metadata": {},
   "outputs": [
    {
     "name": "stdout",
     "output_type": "stream",
     "text": [
      "['foot', 'fell', 'fastest']\n",
      "cat in the hat\n"
     ]
    }
   ],
   "source": [
    "# String Pattern Matching\n",
    "import re\n",
    "print( re.findall(r'\\bf[a-z]*','which foot or hand fell fastest') )\n",
    "\n",
    "print( re.sub(r'(\\b[a-z]+) \\1', r'\\1', 'cat in the the hat') )"
   ]
  },
  {
   "cell_type": "code",
   "execution_count": 15,
   "metadata": {},
   "outputs": [
    {
     "data": {
      "text/plain": [
       "10.0"
      ]
     },
     "execution_count": 15,
     "metadata": {},
     "output_type": "execute_result"
    }
   ],
   "source": [
    "# Mathematics\n",
    "import math\n",
    "math.cos(math.pi / 4)\n",
    "\n",
    "math.log(1024, 2)"
   ]
  },
  {
   "cell_type": "code",
   "execution_count": 18,
   "metadata": {},
   "outputs": [
    {
     "name": "stdout",
     "output_type": "stream",
     "text": [
      "apple\n",
      "[19, 74, 87, 7, 97, 84, 71, 51, 59, 98]\n",
      "0.2244019018272999\n",
      "2\n"
     ]
    }
   ],
   "source": [
    "import random\n",
    "print( random.choice(['apple', 'pear', 'banana']) )\n",
    "\n",
    "print( random.sample(range(100), 10) )\n",
    "\n",
    "print( random.random() ) #random float\n",
    "\n",
    "print( random.randrange(6) )   # random integer chosen from range(6)"
   ]
  },
  {
   "cell_type": "code",
   "execution_count": 21,
   "metadata": {},
   "outputs": [
    {
     "name": "stdout",
     "output_type": "stream",
     "text": [
      "1.6071428571428572\n",
      "1.25\n",
      "1.3720238095238095\n"
     ]
    }
   ],
   "source": [
    "import statistics\n",
    "\n",
    "data = [2.75, 1.75, 1.25, 0.25, 0.5, 1.25, 3.5]\n",
    "print( statistics.mean(data) ) # 均值\n",
    "\n",
    "print( statistics.median(data) ) # 中位数\n",
    "\n",
    "print( statistics.variance(data) ) # 方差"
   ]
  },
  {
   "cell_type": "code",
   "execution_count": null,
   "metadata": {},
   "outputs": [],
   "source": [
    "# Internet Access\n",
    "from urllib.request import urlopen\n",
    "with urlopen('http://tycho.usno.navy.mil/cgi-bin/timer.pl') as response:\n",
    "    for line in response:\n",
    "        line = line.decode('utf-8')  # Decoding the binary data to text.\n",
    "        if 'EST' in line or 'EDT' in line:  # look for Eastern Time\n",
    "            print(line)\n",
    "\n",
    "\n",
    "# import smtplib\n",
    "# server = smtplib.SMTP('localhost')\n",
    "# server.sendmail('soothsayer@example.org', 'jcaesar@example.org',\n",
    "# \"\"\"\n",
    "# To: jcaesar@example.org\n",
    "# From: soothsayer@example.org\n",
    "# \n",
    "# Beware the Ides of March.\n",
    "# \"\"\")\n",
    "server.quit()"
   ]
  },
  {
   "cell_type": "code",
   "execution_count": 3,
   "metadata": {},
   "outputs": [
    {
     "name": "stdout",
     "output_type": "stream",
     "text": [
      "2017-12-04\n",
      "2003-12-02\n",
      "12-04-17. 04 Dec 2017 is a Monday on the 04 day of December.\n",
      "19484\n"
     ]
    }
   ],
   "source": [
    "# dates are easily constructed and formatted\n",
    "import datetime\n",
    "from datetime import date\n",
    "now = date.today()\n",
    "print( now )\n",
    "print( datetime.date(2003, 12, 2) )\n",
    "print( now.strftime(\"%m-%d-%y. %d %b %Y is a %A on the %d day of %B.\") )\n",
    "\n",
    "# dates support calendar arithmetic\n",
    "birthday = date(1964, 7, 31)\n",
    "age = now - birthday\n",
    "print( age.days )\n"
   ]
  },
  {
   "cell_type": "code",
   "execution_count": 14,
   "metadata": {},
   "outputs": [
    {
     "name": "stdout",
     "output_type": "stream",
     "text": [
      "now :2017-12-04\n",
      "now + 1 day:2017-12-05\n"
     ]
    }
   ],
   "source": [
    "# 日期计算 timedelta\n",
    "from datetime import timedelta\n",
    "now  = date.today()\n",
    "print(\"now :{}\".format(now))\n",
    "\n",
    "day = timedelta(days=1)\n",
    "# month = timedelta()\n",
    "print(\"now + 1 day:{}\".format(now + day))\n",
    "\n",
    "#  class datetime.timedelta(days=0, seconds=0, microseconds=0, milliseconds=0, minutes=0, hours=0, weeks=0)"
   ]
  },
  {
   "cell_type": "code",
   "execution_count": 27,
   "metadata": {},
   "outputs": [
    {
     "name": "stdout",
     "output_type": "stream",
     "text": [
      "41\n",
      "37\n",
      "b'witch which has which witches wrist watch'\n",
      "226805979\n"
     ]
    }
   ],
   "source": [
    "# Data Compression\n",
    "# Common data archiving and compression formats are directly \n",
    "# supported by modules including: zlib, gzip, bz2, lzma, zipfile and tarfile.\n",
    "import zlib\n",
    "s = b'witch which has which witches wrist watch'\n",
    "print( len(s) )\n",
    "\n",
    "t = zlib.compress(s)\n",
    "print( len(t) )\n",
    "\n",
    "print( zlib.decompress(t) )\n",
    "\n",
    "print( zlib.crc32(s) )\n",
    "\n"
   ]
  },
  {
   "cell_type": "code",
   "execution_count": 28,
   "metadata": {},
   "outputs": [
    {
     "data": {
      "text/plain": [
       "0.02136447299926658"
      ]
     },
     "execution_count": 28,
     "metadata": {},
     "output_type": "execute_result"
    }
   ],
   "source": [
    "# Performance Measurement\n",
    "# 不理解\n",
    "from timeit import Timer\n",
    "Timer('t=a; a=b; b=t', 'a=1; b=2').timeit()\n",
    "Timer('a,b = b,a', 'a=1; b=2').timeit()"
   ]
  },
  {
   "cell_type": "code",
   "execution_count": null,
   "metadata": {},
   "outputs": [],
   "source": []
  },
  {
   "cell_type": "code",
   "execution_count": null,
   "metadata": {},
   "outputs": [],
   "source": []
  },
  {
   "cell_type": "code",
   "execution_count": null,
   "metadata": {},
   "outputs": [],
   "source": []
  },
  {
   "cell_type": "code",
   "execution_count": null,
   "metadata": {},
   "outputs": [],
   "source": []
  }
 ],
 "metadata": {
  "kernelspec": {
   "display_name": "Python 3",
   "language": "python",
   "name": "python3"
  },
  "language_info": {
   "codemirror_mode": {
    "name": "ipython",
    "version": 3
   },
   "file_extension": ".py",
   "mimetype": "text/x-python",
   "name": "python",
   "nbconvert_exporter": "python",
   "pygments_lexer": "ipython3",
   "version": "3.6.3"
  }
 },
 "nbformat": 4,
 "nbformat_minor": 2
}
