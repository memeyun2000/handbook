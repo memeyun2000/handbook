{
 "cells": [
  {
   "cell_type": "code",
   "execution_count": 20,
   "metadata": {},
   "outputs": [
    {
     "name": "stdout",
     "output_type": "stream",
     "text": [
      "1 1 0\n",
      "[1.1, 4.2, 1.8, 1.2, 3.3]\n",
      "4\n",
      "-- remove element --\n",
      "[1.1, 4.2, 1.8, 1.2]\n",
      "-- reverse list --\n",
      "[1.2, 1.8, 4.2, 1.1]\n",
      "[1.1, 1.2, 1.8, 4.2]\n",
      "4.2\n",
      "[1.1, 1.2, 1.8]\n"
     ]
    }
   ],
   "source": [
    "##### list example \n",
    "\n",
    "a = [1.1 ,4.2, 1.2 , 3.3]\n",
    "print(a.count(1.1),a.count(1.2) , a.count('x'))\n",
    "a.insert(2,1.8)\n",
    "print(a)\n",
    "\n",
    "print(a.index(3.3))\n",
    "\n",
    "print(\"-- remove element --\")\n",
    "a.remove(3.3)\n",
    "print(a)\n",
    "\n",
    "print(\"-- reverse list --\")\n",
    "a.reverse()\n",
    "print(a)\n",
    "\n",
    "a.sort()\n",
    "print(a)\n",
    "\n",
    "print(a.pop())\n",
    "print(a)\n",
    "\n"
   ]
  },
  {
   "cell_type": "code",
   "execution_count": 21,
   "metadata": {},
   "outputs": [
    {
     "name": "stdout",
     "output_type": "stream",
     "text": [
      "stack list:[3, 4, 5, 6, 7]\n",
      "pop element:7\n",
      "stack list:[3, 4, 5, 6]\n",
      "pop element:6\n",
      "stack list:[3, 4, 5]\n"
     ]
    }
   ],
   "source": [
    "# Use list as stack\n",
    "\n",
    "stack = [3,4,5]\n",
    "\n",
    "# append element \n",
    "stack.append(6)\n",
    "stack.append(7)\n",
    "print(\"stack list:{}\".format(stack))\n",
    "\n",
    "# pop element\n",
    "print(\"pop element:{}\".format(stack.pop()))\n",
    "print(\"stack list:{}\".format(stack))\n",
    "print(\"pop element:{}\".format(stack.pop()))\n",
    "print(\"stack list:{}\".format(stack))"
   ]
  },
  {
   "cell_type": "code",
   "execution_count": 22,
   "metadata": {},
   "outputs": [
    {
     "name": "stdout",
     "output_type": "stream",
     "text": [
      "queue:deque(['guoqy', 'lululi', 'xiaoguoguo', 'xiaolulu', 'sec'])\n",
      "left element:guoqy\n",
      "queue:deque(['lululi', 'xiaoguoguo', 'xiaolulu', 'sec'])\n"
     ]
    }
   ],
   "source": [
    "# Use list as queues\n",
    "from collections import deque\n",
    "queue = deque([\"guoqy\",\"lululi\",\"xiaoguoguo\"])\n",
    "queue.append(\"xiaolulu\")\n",
    "queue.append(\"sec\")\n",
    "\n",
    "# queue elements\n",
    "print(\"queue:{}\".format(queue))\n",
    "\n",
    "# deque has popleft function\n",
    "# popleft element\n",
    "print(\"left element:{}\".format(queue.popleft()))\n",
    "\n",
    "\n",
    "# queue elements\n",
    "print(\"queue:{}\".format(queue))"
   ]
  },
  {
   "cell_type": "code",
   "execution_count": 28,
   "metadata": {},
   "outputs": [
    {
     "name": "stdout",
     "output_type": "stream",
     "text": [
      "[0, 1, 4, 9, 16, 25, 36, 49, 64, 81]\n"
     ]
    }
   ],
   "source": [
    "#List comprehensions\n",
    "\n",
    "squares = []\n",
    "for x in range(10):\n",
    "    squares.append(x**2)\n",
    "    \n",
    "print(squares)"
   ]
  },
  {
   "cell_type": "code",
   "execution_count": 29,
   "metadata": {},
   "outputs": [
    {
     "name": "stdout",
     "output_type": "stream",
     "text": [
      "[0, 1, 4, 9, 16, 25, 36, 49, 64, 81]\n"
     ]
    }
   ],
   "source": [
    "#List comprehensions\n",
    "squares = list(map(lambda x:x**2,range(10)))\n",
    "\n",
    "print(squares)"
   ]
  },
  {
   "cell_type": "code",
   "execution_count": 32,
   "metadata": {},
   "outputs": [
    {
     "name": "stdout",
     "output_type": "stream",
     "text": [
      "[0, 1, 4, 9, 16, 25, 36, 49, 64, 81]\n"
     ]
    }
   ],
   "source": [
    "#List comprehensions\n",
    "squares = [x**2 for x in range(10)]\n",
    "\n",
    "print(squares)"
   ]
  },
  {
   "cell_type": "code",
   "execution_count": 39,
   "metadata": {},
   "outputs": [
    {
     "name": "stdout",
     "output_type": "stream",
     "text": [
      "[(1, 3), (1, 5), (2, 3), (2, 1), (2, 5), (3, 1), (3, 5)]\n",
      "[(1, 3), (1, 5), (2, 3), (2, 1), (2, 5), (3, 1), (3, 5)]\n"
     ]
    }
   ],
   "source": [
    "#List comprehensions\n",
    "l = [(x,y) for x in (1,2,3) for y in (3,1,5) if x != y]\n",
    "print(l)\n",
    "\n",
    "#it's equivalent to:\n",
    "l2 = []\n",
    "for x in (1,2,3):\n",
    "    for y in (3,1,5):\n",
    "        if x !=y :\n",
    "            l2.append((x,y))\n",
    "            \n",
    "print(l2)"
   ]
  },
  {
   "cell_type": "code",
   "execution_count": 50,
   "metadata": {},
   "outputs": [
    {
     "name": "stdout",
     "output_type": "stream",
     "text": [
      "[-8, -4, 0, 4, 8]\n",
      "[0, 2, 4]\n",
      "[4, 2, 0, 2, 4]\n",
      "['banana', 'loganberry', 'passion fruit']\n",
      "[(0, 0), (1, 1), (2, 4), (3, 9), (4, 16), (5, 25)]\n",
      "[1, 2, 3, 4, 5, 6, 7, 8, 9]\n"
     ]
    }
   ],
   "source": [
    "#List comprehensions\n",
    "vec = [-4,-2,0,2,4]\n",
    "\n",
    "\n",
    "#create a new list with the values doubled\n",
    "print([x*2 for x in vec])\n",
    "\n",
    "\n",
    "#filter the list to exclude negative numbers\n",
    "print([x for x in vec if x >=0])\n",
    "\n",
    "\n",
    "#apply a function to all the elements\n",
    "print([abs(x) for x in vec])\n",
    "\n",
    "\n",
    "#call a function on element\n",
    "freshfruit = [' banana',' loganberry','passion fruit ']\n",
    "print([weapon.strip() for weapon in freshfruit])\n",
    "\n",
    "\n",
    "# create a list of 2-tuples like (number,square)\n",
    "print([(x,x**2) for x in range(6)])\n",
    "\n",
    "\n",
    "#flatten a list using a listcomp with two 'for'\n",
    "vec = [[1,2,3],[4,5,6],[7,8,9]]\n",
    "print([num for ele in vec for num in ele])"
   ]
  },
  {
   "cell_type": "code",
   "execution_count": 51,
   "metadata": {},
   "outputs": [
    {
     "name": "stdout",
     "output_type": "stream",
     "text": [
      "['3.0', '3.1', '3.14', '3.142', '3.1416', '3.14159']\n"
     ]
    }
   ],
   "source": [
    "#List comprehensions:\n",
    "#complex function and nested function:\n",
    "from math import pi\n",
    "print( [str(round(pi,i)) for i in range(6)] )"
   ]
  },
  {
   "cell_type": "code",
   "execution_count": 15,
   "metadata": {},
   "outputs": [
    {
     "name": "stdout",
     "output_type": "stream",
     "text": [
      "[[1, 2, 3, 4], [5, 6, 7, 8], [9, 10, 11, 12]]\n",
      "[[1, 5, 9], [2, 6, 10], [3, 7, 11], [4, 8, 12]]\n",
      "[[1, 5, 9], [2, 6, 10], [3, 7, 11], [4, 8, 12]]\n",
      "[(1, 5, 9), (2, 6, 10), (3, 7, 11), (4, 8, 12)]\n"
     ]
    }
   ],
   "source": [
    "#Nest list comprehensions\n",
    "matrix = [\n",
    "    [1,2,3,4],\n",
    "    [5,6,7,8],\n",
    "    [9,10,11,12]\n",
    "]\n",
    "\n",
    "print(matrix)\n",
    "\n",
    "# convert matrix column and row\n",
    "print( [[row[i] for row in matrix ]for i in range(4)] )\n",
    "\n",
    "# compression equivalent to :\n",
    "\n",
    "transposed = []\n",
    "\n",
    "for i in range(4):\n",
    "    transposed_row = []\n",
    "    for row in matrix:\n",
    "        #read element\n",
    "        transposed_row.append(row[i])\n",
    "    transposed.append(transposed_row)\n",
    "print(transposed)\n",
    "\n",
    "# in real world , build-in function for convert\n",
    "print( list(zip(*matrix)) )"
   ]
  },
  {
   "cell_type": "code",
   "execution_count": 20,
   "metadata": {},
   "outputs": [
    {
     "name": "stdout",
     "output_type": "stream",
     "text": [
      "[-1, 1, 3, 4, 5, 6, 7, 4]\n",
      "[1, 3, 4, 5, 6, 7, 4]\n",
      "[1, 3, 6, 7, 4]\n",
      "[]\n"
     ]
    }
   ],
   "source": [
    "#The del statment\n",
    "a = [-1 ,1 ,3,4,5,6,7,4]\n",
    "\n",
    "print( a )\n",
    "\n",
    "# delete NO.1 element\n",
    "del a[0]\n",
    "print( a )\n",
    "\n",
    "# delete 3 and 4 element\n",
    "del a[2:4]\n",
    "print( a )\n",
    "\n",
    "# delete all element\n",
    "del a[:]\n",
    "print( a )"
   ]
  },
  {
   "cell_type": "code",
   "execution_count": 31,
   "metadata": {},
   "outputs": [
    {
     "name": "stdout",
     "output_type": "stream",
     "text": [
      "(12345, 'hello', 1.2)\n",
      "12345\n",
      "(123, (1, 2, 3, 4, 5))\n",
      "([1, 2, 3, 4], [3, 4, 6])\n"
     ]
    }
   ],
   "source": [
    "# Tuples and Sequences\n",
    "# Tuples is another standard sequences\n",
    "t = 12345,\"hello\",1.2\n",
    "\n",
    "print( t )\n",
    "print( t[0])\n",
    "\n",
    "\n",
    "# tuples may be nested\n",
    "u = 123,(1,2,3,4,5)\n",
    "print(u)\n",
    "\n",
    "# tuples are immutable:\n",
    "# t[0] = 8888\n",
    "\n",
    "\n",
    "\n",
    "# but tuples can contain mutable objects:\n",
    "v = ([1,2,3,4],[3,4])\n",
    "## v[1] add element\n",
    "v[1].append(6)\n",
    "print( v )"
   ]
  },
  {
   "cell_type": "code",
   "execution_count": 33,
   "metadata": {},
   "outputs": [
    {
     "name": "stdout",
     "output_type": "stream",
     "text": [
      "0\n",
      "1\n",
      "('hello',)\n",
      "5\n",
      "hello\n"
     ]
    }
   ],
   "source": [
    "# tuple always enclosed in parentheses\n",
    "empty = ()\n",
    "print( len(empty) )\n",
    "\n",
    "# 逗号分割的元素也被视为元组\n",
    "t = \"hello\" , \n",
    "print( len(t) )\n",
    "print( t )\n",
    "\n",
    "\n",
    "# 如下这是一个字符串 这里没有，分割\n",
    "_str = \"hello\"\n",
    "print(len(_str))\n",
    "print(_str)"
   ]
  },
  {
   "cell_type": "code",
   "execution_count": 36,
   "metadata": {},
   "outputs": [
    {
     "name": "stdout",
     "output_type": "stream",
     "text": [
      "('hello', 1, 2, 3)\n",
      "first element:hello \n",
      "second element:1\n",
      "3th element:2\n",
      "4th element:3\n"
     ]
    }
   ],
   "source": [
    "# reverse operation\n",
    "# 和JavaScript类似，同样也有【反转赋值】的语法\n",
    "t = \"hello\",1,2,3\n",
    "print(t)\n",
    "\n",
    "x,y,z,w = t\n",
    "print(\"first element:{} \\nsecond element:{}\\n3th element:{}\\n4th element:{}\".format(x,y,z,w))\n"
   ]
  },
  {
   "cell_type": "code",
   "execution_count": 48,
   "metadata": {},
   "outputs": [
    {
     "name": "stdout",
     "output_type": "stream",
     "text": [
      "{'hello', 'hell', 'world', 'guoqy'}\n",
      "True\n",
      "False\n",
      "{'a', 'f', 'w', 'h', 's', 'u', 'd', 'j', 'k', 'i'}\n",
      "{'e', 'q', 'w', 's', 'd', 'j', 'o', 'i'}\n",
      "{'f', 'u', 'k', 'a', 'h'}\n",
      "{'a', 'e', 'f', 'q', 'w', 'h', 's', 'u', 'd', 'j', 'o', 'k', 'i'}\n",
      "{'s', 'd', 'i', 'w', 'j'}\n",
      "{'a', 'e', 'f', 'q', 'h', 'u', 'o', 'k'}\n",
      "{'w', 'h', 's', 'u', 'd', 'j', 'k', 'i'}\n"
     ]
    }
   ],
   "source": [
    "#Set \n",
    "# Set 使用 {} 表示\n",
    "basket = {\"hello\" , \"world\" , \"hello\" , \"hell\" , \"guoqy\"}\n",
    "print(basket)\n",
    "\n",
    "print( \"world\" in basket )\n",
    "print( \"HH\" in  basket)\n",
    "\n",
    "\n",
    "# set 同样也可以用来 字符串 去重\n",
    "a = set(\"adfhuiwfjajdiksj\")\n",
    "b = set(\"wqjjioqwjeids\")\n",
    "\n",
    "print( a )\n",
    "print( b )\n",
    "\n",
    "# 逻辑运算\n",
    "# - 除法运算\n",
    "# letter in a but not in b\n",
    "print( a - b )\n",
    "# | 或运算\n",
    "# letter in a  or b both\n",
    "print( a | b )\n",
    "# & 交集 运算\n",
    "# letter both in a and b \n",
    "print( a & b )\n",
    "# ^ \n",
    "# letter in a or b but not both\n",
    "print( a ^ b )\n",
    "\n",
    "\n",
    "# set comprehension also support:\n",
    "c = {x for x in a if x not in 'abcf'}\n",
    "print(c)"
   ]
  },
  {
   "cell_type": "code",
   "execution_count": 58,
   "metadata": {},
   "outputs": [
    {
     "name": "stdout",
     "output_type": "stream",
     "text": [
      "{'localhost': 127, 'jack': 8080}\n",
      "8080\n",
      "{'localhost': 127, 'jack': 9090}\n",
      "{'localhost': 127}\n",
      "{'localhost': 127, 'hello': 'world'}\n",
      "False\n",
      "True\n"
     ]
    }
   ],
   "source": [
    "# Dictionaries\n",
    "# dict 使用 {} \n",
    "tel = {'jack':8080,'localhost':127}\n",
    "print(tel)\n",
    "print(tel['jack'])\n",
    "\n",
    "\n",
    "# modify dictionary's value\n",
    "tel['jack'] = 9090\n",
    "print(tel)\n",
    "\n",
    "# delete dictionary's element\n",
    "del(tel['jack'])\n",
    "print(tel)\n",
    "\n",
    "# add element to dictionary\n",
    "tel[\"hello\"] = \"world\"\n",
    "print(tel)\n",
    "\n",
    "print('jack' in tel)\n",
    "print('hello' in tel)"
   ]
  },
  {
   "cell_type": "code",
   "execution_count": 60,
   "metadata": {},
   "outputs": [
    {
     "name": "stdout",
     "output_type": "stream",
     "text": [
      "{'hello': 1234, 123: 454, 'xixi': 8080}\n"
     ]
    }
   ],
   "source": [
    "#Dictionaries \n",
    "#dict() 可以构造 有键值对 的 序列\n",
    "#note:最好不要使用数字 作为 key 即使这样可以\n",
    "_dict = dict([(\"hello\",1234) , (\"xixi\",8080) , (123,454)])\n",
    "print( _dict )"
   ]
  },
  {
   "cell_type": "code",
   "execution_count": 62,
   "metadata": {},
   "outputs": [
    {
     "name": "stdout",
     "output_type": "stream",
     "text": [
      "{0: 0, 1: 1, 2: 4, 3: 9}\n"
     ]
    }
   ],
   "source": [
    "#Dict comprehensions\n",
    "#字典的表达式\n",
    "_dict = {x:x**2 for x in range(4)}\n",
    "print(_dict)"
   ]
  },
  {
   "cell_type": "code",
   "execution_count": 66,
   "metadata": {},
   "outputs": [
    {
     "name": "stdout",
     "output_type": "stream",
     "text": [
      "{'hello': 'world', 'xixi': 1234}\n"
     ]
    }
   ],
   "source": [
    "#Dict\n",
    "#Another contructor\n",
    "_dict = dict(hello=\"world\",xixi=1234)\n",
    "print(_dict)"
   ]
  },
  {
   "cell_type": "code",
   "execution_count": 73,
   "metadata": {},
   "outputs": [
    {
     "name": "stdout",
     "output_type": "stream",
     "text": [
      "hello world\n",
      "xixi xixi2\n",
      "0 1\n",
      "1 2\n",
      "2 3\n",
      "3 4\n",
      "4 5\n",
      "5 6\n",
      "6 7\n",
      "1 hello\n",
      "2 world\n",
      "3 xixi\n",
      "1\n",
      "2\n",
      "3\n",
      "4\n",
      "5\n",
      "6\n",
      "7\n"
     ]
    }
   ],
   "source": [
    "#loop techniques \n",
    "#循环处理\n",
    "\n",
    "\n",
    "# Dict loop techniques\n",
    "_dict = {\"hello\":\"world\" , \"xixi\":\"xixi2\"}\n",
    "for k,v in _dict.items():\n",
    "    print(k,v)\n",
    "    \n",
    "    \n",
    "# Sequence loop techniques:\n",
    "_seq = [1,2,3,4,5,6,7]\n",
    "for i,v in enumerate(_seq):\n",
    "    print(i,v)\n",
    "    \n",
    "# loop two or more sequence:\n",
    "_seq2 = [\"hello\",\"world\",\"xixi\"]\n",
    "for seq1 ,seq2 in zip(_seq,_seq2):\n",
    "    print(seq1,seq2)\n",
    "    \n",
    "# loop for Set\n",
    "_set = set(_seq)\n",
    "for v in _set:\n",
    "    print(v)"
   ]
  },
  {
   "cell_type": "code",
   "execution_count": 75,
   "metadata": {},
   "outputs": [
    {
     "name": "stdout",
     "output_type": "stream",
     "text": [
      "Trondheim\n"
     ]
    },
    {
     "data": {
      "text/plain": [
       "True"
      ]
     },
     "execution_count": 75,
     "metadata": {},
     "output_type": "execute_result"
    }
   ],
   "source": [
    "# more condition and compare\n",
    "\n",
    "#condition\n",
    "string1, string2, string3 = '', 'Trondheim', 'Hammer Dance'\n",
    "non_null = string1 or string2 or string3\n",
    "print(non_null)\n",
    "\n",
    "\n",
    "#compare\n",
    "(1, 2, 3)              < (1, 2, 4)\n",
    "[1, 2, 3]              < [1, 2, 4]\n",
    "'ABC' < 'C' < 'Pascal' < 'Python'\n",
    "(1, 2, 3, 4)           < (1, 2, 4)\n",
    "(1, 2)                 < (1, 2, -1)\n",
    "(1, 2, 3)             == (1.0, 2.0, 3.0)\n",
    "(1, 2, ('aa', 'ab'))   < (1, 2, ('abc', 'a'), 4)"
   ]
  },
  {
   "cell_type": "code",
   "execution_count": null,
   "metadata": {},
   "outputs": [],
   "source": []
  }
 ],
 "metadata": {
  "kernelspec": {
   "display_name": "Python 3",
   "language": "python",
   "name": "python3"
  },
  "language_info": {
   "codemirror_mode": {
    "name": "ipython",
    "version": 3
   },
   "file_extension": ".py",
   "mimetype": "text/x-python",
   "name": "python",
   "nbconvert_exporter": "python",
   "pygments_lexer": "ipython3",
   "version": "3.5.2"
  }
 },
 "nbformat": 4,
 "nbformat_minor": 2
}
