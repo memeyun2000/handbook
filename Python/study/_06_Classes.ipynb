{
 "cells": [
  {
   "cell_type": "code",
   "execution_count": 9,
   "metadata": {},
   "outputs": [
    {
     "name": "stdout",
     "output_type": "stream",
     "text": [
      "after local assignment:test spam\n",
      "after nonlocal assignment:nonlocal spam\n",
      "after golbal assignment:nonlocal spam\n",
      "global spam:global spam\n"
     ]
    }
   ],
   "source": [
    "#Scopes and Namespaces Example:\n",
    "def scope_test():\n",
    "    def do_local():\n",
    "        spam = \"local spam\"\n",
    "        \n",
    "    def do_nonlocal():\n",
    "        nonlocal spam\n",
    "        spam = \"nonlocal spam\"\n",
    "        \n",
    "    def do_global():\n",
    "        global spam\n",
    "        spam = \"global spam\"\n",
    "        \n",
    "    spam = \"test spam\"\n",
    "    do_local()\n",
    "    print(\"after local assignment:{}\".format(spam))\n",
    "    do_nonlocal()\n",
    "    print(\"after nonlocal assignment:{}\".format(spam))\n",
    "    do_global()\n",
    "    print(\"after golbal assignment:{}\".format(spam))\n",
    "    \n",
    "    \n",
    "scope_test()\n",
    "print(\"global spam:{}\".format(spam))"
   ]
  },
  {
   "cell_type": "code",
   "execution_count": 12,
   "metadata": {},
   "outputs": [],
   "source": [
    "#A first look at class:\n",
    "#class syntax\n",
    "class Classname:\n",
    "    #<statment 1>\n",
    "    #...\n",
    "    #<statment n>\n",
    "    pass"
   ]
  },
  {
   "cell_type": "code",
   "execution_count": 23,
   "metadata": {},
   "outputs": [
    {
     "name": "stdout",
     "output_type": "stream",
     "text": [
      "A simple class example\n",
      "guoqy\n",
      "Hello world\n"
     ]
    }
   ],
   "source": [
    "#class definition example\n",
    "class MyClass:\n",
    "    \"\"\"A simple class example\"\"\"\n",
    "    name = \"guoqy\"\n",
    "    \n",
    "    def sayHello(self):\n",
    "        return \"Hello world\";\n",
    "    \n",
    "    \n",
    "x = MyClass()\n",
    "# \"__doc__\" is also valid attribute\n",
    "print( x.__doc__ )\n",
    "print( x.name )\n",
    "print( x.sayHello() )"
   ]
  },
  {
   "cell_type": "code",
   "execution_count": 24,
   "metadata": {},
   "outputs": [
    {
     "name": "stdout",
     "output_type": "stream",
     "text": [
      "[1, 2, 3, 4, 5]\n"
     ]
    }
   ],
   "source": [
    "#class init\n",
    "class MyClass:\n",
    "    strList = []\n",
    "    def __init__(self):\n",
    "        self.strList = [1,2,3,4,5]\n",
    "        \n",
    "myclass = MyClass()\n",
    "print( myclass.strList )"
   ]
  },
  {
   "cell_type": "code",
   "execution_count": 25,
   "metadata": {},
   "outputs": [
    {
     "name": "stdout",
     "output_type": "stream",
     "text": [
      "3\n",
      "4\n"
     ]
    }
   ],
   "source": [
    "# another class init \n",
    "class MyClass:\n",
    "    def __init__(self,realpart,imagpart):\n",
    "        self.r = realpart\n",
    "        self.i = imagpart\n",
    "    \n",
    "myclass = MyClass(3,4)\n",
    "print( myclass.r )\n",
    "print( myclass.i )\n"
   ]
  },
  {
   "cell_type": "code",
   "execution_count": 1,
   "metadata": {},
   "outputs": [
    {
     "name": "stdout",
     "output_type": "stream",
     "text": [
      "r value is :3\n",
      "i value  is :4\n",
      "counter value : 1 \n",
      "i value is :4\n",
      "hello world\n"
     ]
    }
   ],
   "source": [
    "#Instance Object & Method Object\n",
    "\n",
    "class MyClass:\n",
    "    def __init__(self,realpart,imagpart):\n",
    "        self.r = realpart\n",
    "        self.i = imagpart\n",
    "    def f(self):\n",
    "        return \"hello world\"\n",
    "    \n",
    "myclass = MyClass(3,4)\n",
    "print( \"r value is :{}\".format(myclass.r ))\n",
    "print( \"i value  is :{}\".format(myclass.i ))\n",
    "\n",
    "\n",
    "## instance Object ##\n",
    "myclass.counter = 1\n",
    "print( \"counter value : {} \".format(myclass.counter))\n",
    "del myclass.counter\n",
    "\n",
    "# print( myclass.counter)  #counter is delete\n",
    "print( \"i value is :{}\".format(myclass.i))  #another attribute valid\n",
    "\n",
    "\n",
    "## method Object ##\n",
    "func = myclass.f\n",
    "print(func())"
   ]
  },
  {
   "cell_type": "code",
   "execution_count": 3,
   "metadata": {},
   "outputs": [
    {
     "name": "stdout",
     "output_type": "stream",
     "text": [
      "xx\n",
      "yy\n",
      "joy\n",
      "smith\n"
     ]
    }
   ],
   "source": [
    "#Class and Instance Variables\n",
    "class Dog:\n",
    "    kind = \"canine\"    \n",
    "    def __init__(self,name):\n",
    "        self.name = name\n",
    "        \n",
    "d = Dog(\"joy\")\n",
    "s = Dog(\"smith\")\n",
    "\n",
    "print(d.kind)\n",
    "print(s.kind)\n",
    "\n",
    "print(d.name)\n",
    "print(s.name)"
   ]
  },
  {
   "cell_type": "code",
   "execution_count": 5,
   "metadata": {},
   "outputs": [
    {
     "name": "stdout",
     "output_type": "stream",
     "text": [
      "['play', 'laugh']\n",
      "['play', 'laugh']\n"
     ]
    }
   ],
   "source": [
    "#Class and Instance Variables\n",
    "class Dog:\n",
    "    #An error mistaken use of a class variable\n",
    "    tricks = []\n",
    "    def __init__(self,name):\n",
    "        self.name = name\n",
    "    def add_trick(self,trick):\n",
    "        self.tricks.append(trick)\n",
    "        \n",
    "d = Dog(\"joy\")\n",
    "s = Dog(\"smith\")\n",
    "\n",
    "d.add_trick(\"play\")\n",
    "s.add_trick(\"laugh\")\n",
    "\n",
    "print(s.tricks)\n",
    "print(d.tricks)"
   ]
  },
  {
   "cell_type": "code",
   "execution_count": 6,
   "metadata": {},
   "outputs": [
    {
     "name": "stdout",
     "output_type": "stream",
     "text": [
      "['play']\n",
      "['laugh']\n"
     ]
    }
   ],
   "source": [
    "#Class and Instance Variables:\n",
    "#Correct design of the class should use an instance variable instead:\n",
    "class Dog:\n",
    "    def __init__(self,name):\n",
    "        self.name = name\n",
    "        self.tricks = []\n",
    "    def add_trick(self,trick):\n",
    "        self.tricks.append(trick)\n",
    "        \n",
    "d = Dog(\"joy\")\n",
    "s = Dog(\"smith\")\n",
    "\n",
    "d.add_trick(\"play\")\n",
    "s.add_trick(\"laugh\")\n",
    "\n",
    "print(d.tricks)\n",
    "print(s.tricks)"
   ]
  },
  {
   "cell_type": "code",
   "execution_count": 9,
   "metadata": {},
   "outputs": [],
   "source": [
    "#Inheritance:\n",
    "\n",
    "#class DerivedClassName(BaseClassName):\n",
    "    #<statement-1>\n",
    "    #.\n",
    "    #.\n",
    "    #.\n",
    "    #<statement-N>"
   ]
  },
  {
   "cell_type": "code",
   "execution_count": 11,
   "metadata": {},
   "outputs": [],
   "source": [
    "#Multiple Inheritance\n",
    "\n",
    "#class DerivedClassName(Base1, Base2, Base3):\n",
    "    #<statement-1>\n",
    "    #.\n",
    "    #.\n",
    "    #.\n",
    "    #<statement-N>"
   ]
  },
  {
   "cell_type": "code",
   "execution_count": 23,
   "metadata": {},
   "outputs": [
    {
     "name": "stdout",
     "output_type": "stream",
     "text": [
      "[1, 2, 3, 4, 5]\n"
     ]
    }
   ],
   "source": [
    "#Private variables\n",
    "class Mapping:\n",
    "    def __init__(self, iterable):\n",
    "        self.items_list = []\n",
    "        self.__update(iterable)  #use private function \n",
    "\n",
    "    def __update(self, iterable):\n",
    "        for item in iterable:\n",
    "            self.items_list.append(item)\n",
    "    def __show(self):\n",
    "        print(\"show private function\")\n",
    "\n",
    "    #__update = update   # private copy of original update() method\n",
    "\n",
    "class MappingSubclass(Mapping):\n",
    "    pass\n",
    "\n",
    "_list = [1,2,3,4,5]\n",
    "m = MappingSubclass(_list)\n",
    "print(m.items_list)\n",
    "# m.__show() error with use private function\n",
    "\n"
   ]
  },
  {
   "cell_type": "code",
   "execution_count": null,
   "metadata": {},
   "outputs": [],
   "source": [
    "#Odds and Ends\n",
    "#Sometimes it is useful to have a data type similar to the Pascal “record” or C “struct”\n",
    "#bundling together a few named data items. An empty class definition will do nicely:\n",
    "\n",
    "class Employee:\n",
    "    pass\n",
    "\n",
    "john = Employee()  # Create an empty employee record\n",
    "\n",
    "# Fill the fields of the record\n",
    "john.name = 'John Doe'\n",
    "john.dept = 'computer lab'\n",
    "john.salary = 1000"
   ]
  },
  {
   "cell_type": "code",
   "execution_count": 25,
   "metadata": {},
   "outputs": [
    {
     "name": "stdout",
     "output_type": "stream",
     "text": [
      "1\n",
      "2\n",
      "3\n",
      "1\n",
      "2\n",
      "3\n",
      "one\n",
      "two\n",
      "1\n",
      "2\n",
      "3\n",
      "0123456789abcdef"
     ]
    }
   ],
   "source": [
    "#Iterators\n",
    "for element in [1, 2, 3]:\n",
    "    print(element)\n",
    "for element in (1, 2, 3):\n",
    "    print(element)\n",
    "for key in {'one':1, 'two':2}:\n",
    "    print(key)\n",
    "for char in \"123\":\n",
    "    print(char)\n",
    "for line in open(\"resources/temp.txt\"):\n",
    "    print(line, end='')\n"
   ]
  },
  {
   "cell_type": "code",
   "execution_count": 31,
   "metadata": {},
   "outputs": [
    {
     "name": "stdout",
     "output_type": "stream",
     "text": [
      "a\n",
      "b\n"
     ]
    }
   ],
   "source": [
    "#Iter \n",
    "s = 'abc'\n",
    "it = iter(s)\n",
    "print(next(it))\n",
    "print(next(it))\n",
    "print(next(it))\n",
    "# print(next(it)) #will be error\n"
   ]
  },
  {
   "cell_type": "code",
   "execution_count": 33,
   "metadata": {},
   "outputs": [
    {
     "name": "stdout",
     "output_type": "stream",
     "text": [
      "n\n",
      "r\n",
      "a\n",
      "p\n",
      "s\n"
     ]
    }
   ],
   "source": [
    "class Reverse:\n",
    "    \"\"\"Iterator for looping over a sequence backwards.\"\"\"\n",
    "    def __init__(self, data):\n",
    "        self.data = data\n",
    "        self.index = len(data)\n",
    "\n",
    "    def __iter__(self):\n",
    "        return self\n",
    "\n",
    "    def __next__(self):\n",
    "        if self.index == 0:\n",
    "            raise StopIteration\n",
    "        self.index = self.index - 1\n",
    "        return self.data[self.index]\n",
    "    \n",
    "rev = Reverse(\"sparn\")\n",
    "it = iter(rev)\n",
    "print(next(it))\n",
    "\n",
    "\n",
    "# for loop  continue with \"it\"\n",
    "for x in rev:\n",
    "    print(x)"
   ]
  },
  {
   "cell_type": "code",
   "execution_count": 35,
   "metadata": {},
   "outputs": [
    {
     "name": "stdout",
     "output_type": "stream",
     "text": [
      "f\n",
      "l\n",
      "o\n",
      "g\n"
     ]
    }
   ],
   "source": [
    "#Generators\n",
    "def reverse(data):\n",
    "    for index in range(len(data)-1, -1, -1):\n",
    "        yield data[index]\n",
    "        \n",
    "for char in reverse('golf'):\n",
    "    print(char)\n"
   ]
  },
  {
   "cell_type": "code",
   "execution_count": 40,
   "metadata": {},
   "outputs": [
    {
     "name": "stdout",
     "output_type": "stream",
     "text": [
      "285\n",
      "260\n",
      "{0: 0.0, 1: 0.01745240643728351, 2: 0.03489949670250097, 3: 0.05233595624294383, 4: 0.0697564737441253, 5: 0.08715574274765817, 6: 0.10452846326765346, 7: 0.12186934340514748, 8: 0.13917310096006544, 9: 0.15643446504023087, 10: 0.17364817766693033, 11: 0.1908089953765448, 12: 0.20791169081775931, 13: 0.224951054343865, 14: 0.24192189559966773, 15: 0.25881904510252074, 16: 0.27563735581699916, 17: 0.29237170472273677, 18: 0.3090169943749474, 19: 0.32556815445715664, 20: 0.3420201433256687, 21: 0.35836794954530027, 22: 0.374606593415912, 23: 0.3907311284892737, 24: 0.40673664307580015, 25: 0.42261826174069944, 26: 0.4383711467890774, 27: 0.45399049973954675, 28: 0.4694715627858908, 29: 0.48480962024633706, 30: 0.49999999999999994, 31: 0.5150380749100542, 32: 0.5299192642332049, 33: 0.5446390350150271, 34: 0.5591929034707469, 35: 0.573576436351046, 36: 0.5877852522924731, 37: 0.6018150231520483, 38: 0.6156614753256582, 39: 0.6293203910498374, 40: 0.6427876096865393, 41: 0.6560590289905072, 42: 0.6691306063588582, 43: 0.6819983600624985, 44: 0.6946583704589973, 45: 0.7071067811865475, 46: 0.7193398003386511, 47: 0.7313537016191705, 48: 0.7431448254773941, 49: 0.754709580222772, 50: 0.766044443118978, 51: 0.7771459614569708, 52: 0.788010753606722, 53: 0.7986355100472928, 54: 0.8090169943749475, 55: 0.8191520442889918, 56: 0.8290375725550417, 57: 0.8386705679454239, 58: 0.848048096156426, 59: 0.8571673007021122, 60: 0.8660254037844386, 61: 0.8746197071393957, 62: 0.8829475928589269, 63: 0.8910065241883678, 64: 0.898794046299167, 65: 0.9063077870366499, 66: 0.9135454576426009, 67: 0.9205048534524403, 68: 0.9271838545667874, 69: 0.9335804264972017, 70: 0.9396926207859083, 71: 0.9455185755993167, 72: 0.9510565162951535, 73: 0.9563047559630354, 74: 0.9612616959383189, 75: 0.9659258262890683, 76: 0.9702957262759965, 77: 0.9743700647852352, 78: 0.9781476007338056, 79: 0.981627183447664, 80: 0.984807753012208, 81: 0.9876883405951378, 82: 0.9902680687415703, 83: 0.992546151641322, 84: 0.9945218953682733, 85: 0.9961946980917455, 86: 0.9975640502598242, 87: 0.9986295347545738, 88: 0.9993908270190958, 89: 0.9998476951563913, 90: 1.0}\n"
     ]
    },
    {
     "ename": "NameError",
     "evalue": "name 'graduates' is not defined",
     "output_type": "error",
     "traceback": [
      "\u001b[0;31m---------------------------------------------------------------------------\u001b[0m",
      "\u001b[0;31mNameError\u001b[0m                                 Traceback (most recent call last)",
      "\u001b[0;32m<ipython-input-40-586cedfca1c5>\u001b[0m in \u001b[0;36m<module>\u001b[0;34m()\u001b[0m\n\u001b[1;32m     14\u001b[0m \u001b[0;31m#print(unique_words)\u001b[0m\u001b[0;34m\u001b[0m\u001b[0;34m\u001b[0m\u001b[0m\n\u001b[1;32m     15\u001b[0m \u001b[0;34m\u001b[0m\u001b[0m\n\u001b[0;32m---> 16\u001b[0;31m \u001b[0mvaledictorian\u001b[0m \u001b[0;34m=\u001b[0m \u001b[0mmax\u001b[0m\u001b[0;34m(\u001b[0m\u001b[0;34m(\u001b[0m\u001b[0mstudent\u001b[0m\u001b[0;34m.\u001b[0m\u001b[0mgpa\u001b[0m\u001b[0;34m,\u001b[0m \u001b[0mstudent\u001b[0m\u001b[0;34m.\u001b[0m\u001b[0mname\u001b[0m\u001b[0;34m)\u001b[0m \u001b[0;32mfor\u001b[0m \u001b[0mstudent\u001b[0m \u001b[0;32min\u001b[0m \u001b[0mgraduates\u001b[0m\u001b[0;34m)\u001b[0m\u001b[0;34m\u001b[0m\u001b[0m\n\u001b[0m",
      "\u001b[0;31mNameError\u001b[0m: name 'graduates' is not defined"
     ]
    }
   ],
   "source": [
    "#Generator Expressions\n",
    "print(sum(i*i for i in range(10)) )\n",
    "\n",
    "xvec = [10, 20, 30]\n",
    "yvec = [7, 5, 3]\n",
    "print(sum(x*y for x,y in zip(xvec, yvec)))         # dot product\n",
    "\n",
    "from math import pi, sin\n",
    "sine_table = {x: sin(x*pi/180) for x in range(0, 91)}\n",
    "print(sine_table)\n",
    "\n",
    "# line is a file's line\n",
    "#unique_words = set(word  for line in page  for word in line.split())\n",
    "#print(unique_words)\n",
    "\n",
    "#valedictorian = max((student.gpa, student.name) for student in graduates)\n",
    "\n",
    "\n",
    "#reverse\n",
    "#data = 'golf'\n",
    "#list(data[i] for i in range(len(data)-1, -1, -1))"
   ]
  },
  {
   "cell_type": "code",
   "execution_count": null,
   "metadata": {},
   "outputs": [],
   "source": []
  }
 ],
 "metadata": {
  "kernelspec": {
   "display_name": "Python 3",
   "language": "python",
   "name": "python3"
  },
  "language_info": {
   "codemirror_mode": {
    "name": "ipython",
    "version": 3
   },
   "file_extension": ".py",
   "mimetype": "text/x-python",
   "name": "python",
   "nbconvert_exporter": "python",
   "pygments_lexer": "ipython3",
   "version": "3.6.3"
  }
 },
 "nbformat": 4,
 "nbformat_minor": 2
}
