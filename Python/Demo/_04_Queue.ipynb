{
 "cells": [
  {
   "cell_type": "code",
   "execution_count": 2,
   "metadata": {},
   "outputs": [
    {
     "name": "stdout",
     "output_type": "stream",
     "text": [
      "hello world guo\n",
      "hello world guo\n",
      "hello world guo\n",
      "hello world guo\n",
      "hello world guo\n"
     ]
    }
   ],
   "source": [
    "import queue\n",
    "\n",
    "job_queue = queue.Queue()\n",
    "job_queue.put(\"hello world guo\")\n",
    "job_queue.put(\"hello world guo\")\n",
    "job_queue.put(\"hello world guo\")\n",
    "job_queue.put(\"hello world guo\")\n",
    "job_queue.put(\"hello world guo\")\n",
    "\n",
    "\n",
    "while 1:\n",
    "    if job_queue.empty():\n",
    "        break\n",
    "    job_info = job_queue.get()\n",
    "    print(job_info)"
   ]
  }
 ],
 "metadata": {
  "kernelspec": {
   "display_name": "Python 3",
   "language": "python",
   "name": "python3"
  },
  "language_info": {
   "codemirror_mode": {
    "name": "ipython",
    "version": 3
   },
   "file_extension": ".py",
   "mimetype": "text/x-python",
   "name": "python",
   "nbconvert_exporter": "python",
   "pygments_lexer": "ipython3",
   "version": "3.4.3"
  }
 },
 "nbformat": 4,
 "nbformat_minor": 2
}
