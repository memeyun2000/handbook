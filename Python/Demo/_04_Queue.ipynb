{
 "cells": [
  {
   "cell_type": "code",
   "execution_count": null,
   "metadata": {},
   "outputs": [],
   "source": [
    "import queue\n",
    "\n",
    "job_queue = queue.Queue()\n",
    "job_queue.put(\"hello world guo\")\n",
    "job_queue.put(\"hello world guo\")\n",
    "job_queue.put(\"hello world guo\")\n",
    "job_queue.put(\"hello world guo\")\n",
    "job_queue.put(\"hello world guo\")\n",
    "\n",
    "\n",
    "while 1:\n",
    "    if job_queue.empty():\n",
    "        break\n",
    "    job_info = job_queue.get()\n",
    "    print(job_info)"
   ]
  },
  {
   "cell_type": "code",
   "execution_count": null,
   "metadata": {},
   "outputs": [],
   "source": [
    "#Queue of thread example\n",
    "import queue\n",
    "import threading\n",
    "import time\n",
    "\n",
    "exitFlag = 0 \n",
    "\n",
    "class myThread(threading.Thread):\n",
    "    def __init__(self,threadID,name,q):\n",
    "        threading.Thread.__init__(self)\n",
    "        self.threadID = threadID\n",
    "        self.name = name\n",
    "        self.q = q\n",
    "    def run(self):\n",
    "        print(\"Starting {}\".format(self.name))\n",
    "        \n",
    "        print(\"Exiting {}\".format(self.name))\n",
    "        \n",
    "        \n",
    "def process_data(threadName,q):\n",
    "    while not exitFlag:\n",
    "        queueLock.acquire()\n",
    "        if not workQueue.empty():\n",
    "            data = q.get()\n",
    "            queueLock.release()\n",
    "            print(\"{} processing {}\".format(threadName,data))\n",
    "        else:\n",
    "            queueLock.release()\n",
    "        time.sleep(1)\n",
    "        \n",
    "\n",
    "threadList = [\"Thread-1\",\"Thread-2\",\"Thread-3\"]\n",
    "nameList = [\"One\",\"Two\",\"Three\",\"Four\",\"Five\"]\n",
    "queueLock = threading.Lock()\n",
    "workQueue = queue.Queue(10)\n",
    "threads = []\n",
    "threadID = 1\n",
    "\n",
    "\n",
    "# 创建新线程\n",
    "for tName in threadList:\n",
    "    thread = myThread(threadID,tName,workQueue)\n",
    "    thread.start()\n",
    "    threads.append(thread)\n",
    "    threadID += 1\n",
    "    \n",
    "# 填充队列\n",
    "queueLock.acquire()\n",
    "for word in nameList:\n",
    "    workQueue.put(word)\n",
    "queueLock.release()\n",
    "\n",
    "# 等待队列清空\n",
    "while not workQueue.empty():\n",
    "    pass\n",
    "\n",
    "# 通知线程是时候退出\n",
    "exitFlag = 1\n",
    "\n",
    "# 等待所有线程完成\n",
    "for t in  threads:\n",
    "    t.join()\n",
    "print(\"Exiting Main Thread\")"
   ]
  },
  {
   "cell_type": "code",
   "execution_count": null,
   "metadata": {},
   "outputs": [],
   "source": []
  },
  {
   "cell_type": "code",
   "execution_count": null,
   "metadata": {},
   "outputs": [],
   "source": []
  },
  {
   "cell_type": "code",
   "execution_count": null,
   "metadata": {},
   "outputs": [],
   "source": []
  },
  {
   "cell_type": "code",
   "execution_count": null,
   "metadata": {},
   "outputs": [],
   "source": []
  },
  {
   "cell_type": "code",
   "execution_count": null,
   "metadata": {},
   "outputs": [],
   "source": []
  }
 ],
 "metadata": {
  "kernelspec": {
   "display_name": "Python 3",
   "language": "python",
   "name": "python3"
  },
  "language_info": {
   "codemirror_mode": {
    "name": "ipython",
    "version": 3
   },
   "file_extension": ".py",
   "mimetype": "text/x-python",
   "name": "python",
   "nbconvert_exporter": "python",
   "pygments_lexer": "ipython3",
   "version": "3.6.3"
  }
 },
 "nbformat": 4,
 "nbformat_minor": 2
}
