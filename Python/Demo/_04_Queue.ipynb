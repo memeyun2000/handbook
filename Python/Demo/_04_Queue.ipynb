{
 "cells": [
  {
   "cell_type": "code",
   "execution_count": 5,
   "metadata": {},
   "outputs": [
    {
     "name": "stdout",
     "output_type": "stream",
     "text": [
      "hello world guo\n",
      "hello world guo\n",
      "hello world guo\n",
      "hello world guo\n",
      "hello world guo\n"
     ]
    }
   ],
   "source": [
    "import queue\n",
    "\n",
    "job_queue = queue.Queue()\n",
    "job_queue.put(\"hello world guo\")\n",
    "job_queue.put(\"hello world guo\")\n",
    "job_queue.put(\"hello world guo\")\n",
    "job_queue.put(\"hello world guo\")\n",
    "job_queue.put(\"hello world guo\")\n",
    "\n",
    "\n",
    "while not job_queue.empty():\n",
    "    job_info = job_queue.get()\n",
    "    print(job_info)"
   ]
  },
  {
   "cell_type": "code",
   "execution_count": 4,
   "metadata": {},
   "outputs": [],
   "source": [
    "# ConcurrentQueue:\n",
    "import queue\n",
    "import threading\n",
    "\n",
    "class ConcurrentQueue:\n",
    "    \"\"\"\n",
    "        同步队列\n",
    "    \"\"\"\n",
    "    def __init__(self,capacity = -1):\n",
    "        self.__capacity = capacity #初始化队列大小 \n",
    "        self.__mutex = threading.Lock()  # 初始化互斥量\n",
    "        self.__cond = threading.Condition(self.__mutex) #初始化条件变量\n",
    "        self.__queue = queue.Queue()\n",
    "        \n",
    "    def get(self):\n",
    "        if self.__cond.acquire(): # 获取互斥锁和条件变量，python中threading条件变量默认包含互斥量，因此只需要获取条件变量即可\n",
    "            while self.__queue.empty():\n",
    "                self.__cond.wait() # TODO:这里我觉得可以不需要等待，而是直接返回一个空值即可\n",
    "            elem = self.__queue.get()\n",
    "            \n",
    "            self.__cond.notify() #唤醒其他被阻塞线程\n",
    "            self.__cond.release() #解锁\n",
    "        return elem\n",
    "    \n",
    "    def put(self,elem):\n",
    "        if self.__cond.acquire():\n",
    "            while self.__queue.qsize() >= self.__capacity:\n",
    "                self.__cond.wait()\n",
    "            self.__queue.put(elem)\n",
    "            \n",
    "            self.__cond.notify()\n",
    "            self.__cond.release()\n",
    "            \n",
    "    def clear(self):\n",
    "        if self.__cond.acquire():\n",
    "            self.__queue.queue.clear()\n",
    "            \n",
    "            self.__cond.release()\n",
    "            self.__cond.notifyAll()\n",
    "                \n",
    "    def empty(self):\n",
    "        is_empty = False\n",
    "        if self.__mutex.acquire():\n",
    "            is_empty = self.__queue.empty()\n",
    "            self.__mutex.release()\n",
    "            \n",
    "        return is_empty\n",
    "    \n",
    "    def size(self):\n",
    "        size = 0\n",
    "        if self.__mutex.acquire():\n",
    "            size = self.__queue.qsize()\n",
    "            self.__mutex.release()\n",
    "            \n",
    "        return size\n",
    "    \n",
    "    def resize(self,capacity = -1):\n",
    "        self.__capacity = capacity"
   ]
  },
  {
   "cell_type": "code",
   "execution_count": null,
   "metadata": {},
   "outputs": [],
   "source": []
  },
  {
   "cell_type": "code",
   "execution_count": null,
   "metadata": {},
   "outputs": [],
   "source": []
  },
  {
   "cell_type": "code",
   "execution_count": null,
   "metadata": {},
   "outputs": [],
   "source": []
  },
  {
   "cell_type": "code",
   "execution_count": null,
   "metadata": {},
   "outputs": [],
   "source": []
  },
  {
   "cell_type": "code",
   "execution_count": null,
   "metadata": {},
   "outputs": [],
   "source": []
  }
 ],
 "metadata": {
  "kernelspec": {
   "display_name": "Python 3",
   "language": "python",
   "name": "python3"
  },
  "language_info": {
   "codemirror_mode": {
    "name": "ipython",
    "version": 3
   },
   "file_extension": ".py",
   "mimetype": "text/x-python",
   "name": "python",
   "nbconvert_exporter": "python",
   "pygments_lexer": "ipython3",
   "version": "3.6.3"
  }
 },
 "nbformat": 4,
 "nbformat_minor": 2
}
