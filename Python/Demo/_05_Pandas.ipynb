{
 "cells": [
  {
   "cell_type": "code",
   "execution_count": 36,
   "metadata": {},
   "outputs": [
    {
     "name": "stdout",
     "output_type": "stream",
     "text": [
      "    col1  col2           col3  col4         col5\n",
      "0  ERROR  root  2017-11-29 13     4  51.340949 0\n",
      "1  ERROR  root  2017-11-29 13     4  51.340949 1\n",
      "2  ERROR  root  2017-11-29 13     4  51.340949 2\n",
      "3  ERROR  root  2017-11-29 13     4  51.340949 3\n",
      "4  ERROR  root  2017-11-29 13     4  51.340949 4\n",
      "Empty DataFrame\n",
      "Columns: [col1, col2, col3]\n",
      "Index: []\n"
     ]
    }
   ],
   "source": [
    "import pandas as pd\n",
    "from pandas import DataFrame\n",
    "\n",
    "\"\"\"\n",
    "需要先执行 _04_01程序 \n",
    "\n",
    "分析 _04_01 程序生成的 temp.log 文件\n",
    "查看多线程安全性输出的内容是否重复\n",
    "    如果重复 则说明 queue 对象线程不安全\n",
    "\"\"\"\n",
    "df = pd.read_csv(\"resources/temp.log\",sep=\":\",header=None,names=[\"col1\",\"col2\",\"col3\",\"col4\",\"col5\"])\n",
    "print(df.head())\n",
    "df2 = df.groupby(['col4','col5']).count()\n",
    "print(df2.loc[df2[\"col3\"] > 1])\n",
    "\n",
    "\n",
    "\"\"\"\n",
    "测试了两分钟，生成了11M的文件，未发现重复项\n",
    "结论： queue 是线程安全的\n",
    "\"\"\""
   ]
  }
 ],
 "metadata": {
  "kernelspec": {
   "display_name": "Python 3",
   "language": "python",
   "name": "python3"
  },
  "language_info": {
   "codemirror_mode": {
    "name": "ipython",
    "version": 3
   },
   "file_extension": ".py",
   "mimetype": "text/x-python",
   "name": "python",
   "nbconvert_exporter": "python",
   "pygments_lexer": "ipython3",
   "version": "3.6.3"
  }
 },
 "nbformat": 4,
 "nbformat_minor": 2
}
