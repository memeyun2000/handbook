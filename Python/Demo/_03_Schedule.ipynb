{
 "cells": [
  {
   "cell_type": "code",
   "execution_count": null,
   "metadata": {},
   "outputs": [],
   "source": [
    "#pip install schedule\n",
    "import schedule\n",
    "import time\n",
    "\n",
    "def job():\n",
    "    print(\"I'm work...\")\n",
    "    \n",
    "schedule.every(10).minutes.do(job)\n",
    "schedule.every().hour.do(job)\n",
    "schedule.every().day.at(\"10:30\").do(job)\n",
    "schedule.every().monday.do(job)\n",
    "schedule.every().wednesday.at(\"13:15\").do(job)\n",
    "\n",
    "while True:\n",
    "    schedule.run_pending()\n",
    "    time.sleep(1)"
   ]
  },
  {
   "cell_type": "code",
   "execution_count": null,
   "metadata": {},
   "outputs": [],
   "source": [
    "#Thread is pending\n",
    "import schedule\n",
    "import time\n",
    "import threading\n",
    "\n",
    "def job1():\n",
    "    print(\"job1 working start ...\")\n",
    "    time.sleep(15)\n",
    "    print(\"job1 working end   ...\")\n",
    "    \n",
    "def job2():\n",
    "    print(\"job2 working ...\")\n",
    "    \n",
    "schedule.every(10).seconds.do(job1)\n",
    "schedule.every(10).seconds.do(job2)\n",
    "\n",
    "while True:\n",
    "    schedule.run_pending()\n",
    "    time.sleep(1)\n"
   ]
  },
  {
   "cell_type": "code",
   "execution_count": null,
   "metadata": {},
   "outputs": [],
   "source": [
    "# muiltiple thread schedule\n",
    "import schedule\n",
    "import time\n",
    "import threading\n",
    "\n",
    "def job():\n",
    "    print(\"I'm work .... in job1 start\")\n",
    "    time.sleep(15)\n",
    "    print(\"I'm work .... in job1 end\")\n",
    "    \n",
    "    \n",
    "def job2():\n",
    "    print(\"I'm work ... in job2\")\n",
    "    \n",
    "    \n",
    "def run_threaded(job_func):\n",
    "    job_thread = threading.Thread(target=job_func)\n",
    "    job_thread.start()\n",
    "    \n",
    "schedule.every(10).seconds.do(run_threaded,job)\n",
    "schedule.every(10).seconds.do(run_threaded,job2)\n",
    "\n",
    "while True:\n",
    "    schedule.run_pending()\n",
    "    time.sleep(1)\n",
    "    "
   ]
  },
  {
   "cell_type": "code",
   "execution_count": null,
   "metadata": {},
   "outputs": [],
   "source": [
    "# count number schedule with muilitple thread \n",
    "import queue\n",
    "import time\n",
    "import threading\n",
    "import schedule\n",
    "\n",
    "\n",
    "def job():\n",
    "    print(\"I'm working\")\n",
    "\n",
    "\n",
    "def worker_main():\n",
    "    while 1:\n",
    "        job_func = jobqueue.get()\n",
    "        job_func()\n",
    "\n",
    "jobqueue = queue.Queue()\n",
    "\n",
    "schedule.every(10).seconds.do(jobqueue.put, job)\n",
    "schedule.every(10).seconds.do(jobqueue.put, job)\n",
    "schedule.every(10).seconds.do(jobqueue.put, job)\n",
    "schedule.every(10).seconds.do(jobqueue.put, job)\n",
    "schedule.every(10).seconds.do(jobqueue.put, job)\n",
    "\n",
    "worker_thread = threading.Thread(target=worker_main)\n",
    "worker_thread.start()\n",
    "\n",
    "while 1:\n",
    "    schedule.run_pending()\n",
    "    time.sleep(1)"
   ]
  },
  {
   "cell_type": "code",
   "execution_count": null,
   "metadata": {},
   "outputs": [],
   "source": []
  },
  {
   "cell_type": "code",
   "execution_count": null,
   "metadata": {},
   "outputs": [],
   "source": []
  },
  {
   "cell_type": "code",
   "execution_count": null,
   "metadata": {},
   "outputs": [],
   "source": []
  },
  {
   "cell_type": "code",
   "execution_count": null,
   "metadata": {},
   "outputs": [],
   "source": []
  }
 ],
 "metadata": {
  "kernelspec": {
   "display_name": "Python 3",
   "language": "python",
   "name": "python3"
  },
  "language_info": {
   "codemirror_mode": {
    "name": "ipython",
    "version": 3
   },
   "file_extension": ".py",
   "mimetype": "text/x-python",
   "name": "python",
   "nbconvert_exporter": "python",
   "pygments_lexer": "ipython3",
   "version": "3.6.3"
  }
 },
 "nbformat": 4,
 "nbformat_minor": 2
}
