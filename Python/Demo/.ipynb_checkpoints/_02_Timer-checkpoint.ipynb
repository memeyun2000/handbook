{
 "cells": [
  {
   "cell_type": "code",
   "execution_count": 1,
   "metadata": {},
   "outputs": [
    {
     "name": "stdout",
     "output_type": "stream",
     "text": [
      "hello world,Hawk\n",
      "hello world,Hawk\n",
      "hello world,Hawk\n",
      "hello world,Hawk\n"
     ]
    }
   ],
   "source": [
    "# 定频率执行\n",
    "# 递归调用执行\n",
    "import threading\n",
    "import time\n",
    "\n",
    "def hello(name):\n",
    "    print(\"hello world,{}\".format(name))\n",
    "\n",
    "    global timer\n",
    "    timer = threading.Timer(2.0, hello, [\"Hawk\"])\n",
    "    timer.start()\n",
    "\n",
    "if __name__ == \"__main__\":\n",
    "    timer = threading.Timer(2.0, hello, [\"Hawk\"])\n",
    "    timer.start()"
   ]
  },
  {
   "cell_type": "code",
   "execution_count": 4,
   "metadata": {},
   "outputs": [
    {
     "name": "stdout",
     "output_type": "stream",
     "text": [
      "3\n",
      "hello world,Hawk\n",
      "2\n",
      "1\n",
      "hello world,Hawk\n",
      "Done\n",
      "Performing my action with args:\n",
      "['hello', 'world']\n",
      "hello world,Hawk\n",
      "hello world,Hawk\n",
      "hello world,Hawk\n",
      "hello world,Hawk\n",
      "hello world,Hawk\n",
      "hello world,Hawk\n",
      "hello world,Hawk\n",
      "hello world,Hawk\n"
     ]
    }
   ],
   "source": []
  },
  {
   "cell_type": "code",
   "execution_count": 9,
   "metadata": {},
   "outputs": [
    {
     "name": "stdout",
     "output_type": "stream",
     "text": [
      "Hello world,guoqy\n"
     ]
    },
    {
     "name": "stderr",
     "output_type": "stream",
     "text": [
      "Exception in thread Thread-6:\n",
      "Traceback (most recent call last):\n",
      "  File \"/usr/lib/python3.5/threading.py\", line 914, in _bootstrap_inner\n",
      "    self.run()\n",
      "  File \"/usr/lib/python3.5/threading.py\", line 1180, in run\n",
      "    self.function(*self.args, **self.kwargs)\n",
      "TypeError: start() missing 1 required positional argument: 'self'\n",
      "\n"
     ]
    }
   ],
   "source": [
    "# TO BE CONTINUE\n",
    "import threading\n",
    "import time\n",
    "\n",
    "class MyTimer:\n",
    "    def __init__(self,name,MAX_THREAD_NUM):\n",
    "        self.name = name # 线程名称\n",
    "        self.MAX_THREAD_NUM = MAX_THREAD_NUM #线程数量\n",
    "    \n",
    "    def runMethod(self):\n",
    "        print(\"Hello world,{}\".format(self.name))\n",
    "    \n",
    "    def start(self):\n",
    "        self.runMethod()\n",
    "        \n",
    "        global timer\n",
    "        timer = threading.Timer(2.0 , MyTimer.start , [])\n",
    "        timer.start();\n",
    "        \n",
    "myclass = MyTimer(\"guoqy\",0)\n",
    "myclass.start()"
   ]
  }
 ],
 "metadata": {
  "kernelspec": {
   "display_name": "Python 3",
   "language": "python",
   "name": "python3"
  },
  "language_info": {
   "codemirror_mode": {
    "name": "ipython",
    "version": 3
   },
   "file_extension": ".py",
   "mimetype": "text/x-python",
   "name": "python",
   "nbconvert_exporter": "python",
   "pygments_lexer": "ipython3",
   "version": "3.5.2"
  }
 },
 "nbformat": 4,
 "nbformat_minor": 2
}
