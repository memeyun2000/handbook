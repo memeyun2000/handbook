{
 "cells": [
  {
   "cell_type": "code",
   "execution_count": 1,
   "metadata": {},
   "outputs": [
    {
     "name": "stdout",
     "output_type": "stream",
     "text": [
      "hello world,Hawk\n",
      "hello world,Hawk\n",
      "hello world,Hawk\n",
      "hello world,Hawk\n"
     ]
    }
   ],
   "source": [
    "# 定频率执行\n",
    "# 递归调用执行\n",
    "import threading\n",
    "import time\n",
    "\n",
    "def hello(name):\n",
    "    print(\"hello world,{}\".format(name))\n",
    "\n",
    "    global timer\n",
    "    timer = threading.Timer(2.0, hello, [\"Hawk\"])\n",
    "    timer.start()\n",
    "\n",
    "if __name__ == \"__main__\":\n",
    "    timer = threading.Timer(2.0, hello, [\"Hawk\"])\n",
    "    timer.start()"
   ]
  },
  {
   "cell_type": "code",
   "execution_count": null,
   "metadata": {},
   "outputs": [],
   "source": []
  },
  {
   "cell_type": "code",
   "execution_count": null,
   "metadata": {},
   "outputs": [],
   "source": []
  }
 ],
 "metadata": {
  "kernelspec": {
   "display_name": "Python 3",
   "language": "python",
   "name": "python3"
  },
  "language_info": {
   "codemirror_mode": {
    "name": "ipython",
    "version": 3
   },
   "file_extension": ".py",
   "mimetype": "text/x-python",
   "name": "python",
   "nbconvert_exporter": "python",
   "pygments_lexer": "ipython3",
   "version": "3.4.3"
  }
 },
 "nbformat": 4,
 "nbformat_minor": 2
}
